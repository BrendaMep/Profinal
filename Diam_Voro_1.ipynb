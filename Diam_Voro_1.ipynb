{
  "nbformat": 4,
  "nbformat_minor": 0,
  "metadata": {
    "colab": {
      "name": "Diam Voro 1.ipynb",
      "provenance": [],
      "authorship_tag": "ABX9TyPO1oB8DwNwGfm2uauaZk5W",
      "include_colab_link": true
    },
    "kernelspec": {
      "name": "python3",
      "display_name": "Python 3"
    },
    "language_info": {
      "name": "python"
    }
  },
  "cells": [
    {
      "cell_type": "markdown",
      "metadata": {
        "id": "view-in-github",
        "colab_type": "text"
      },
      "source": [
        "<a href=\"https://colab.research.google.com/github/BrendaMep/Profinal/blob/main/Diam_Voro_1.ipynb\" target=\"_parent\"><img src=\"https://colab.research.google.com/assets/colab-badge.svg\" alt=\"Open In Colab\"/></a>"
      ]
    },
    {
      "cell_type": "code",
      "execution_count": 1,
      "metadata": {
        "id": "1T_G-mjP_40q"
      },
      "outputs": [],
      "source": [
        "import numpy as np\n",
        "from scipy.spatial import HalfspaceIntersection\n",
        "from scipy.spatial.kdtree import Rectangle\n",
        "import matplotlib.pyplot as plt\n",
        "import numpy as np\n",
        "import matplotlib.patches as pc"
      ]
    },
    {
      "cell_type": "code",
      "source": [
        "from matplotlib.colors import hsv_to_rgb\n",
        "halfspaces = np.array([[-1, 0., 0.],\n",
        "                       [0., -1., 0.],\n",
        "                       [2., 1., -4.]])\n",
        "feasible_point = np.array([0.5, 0.5])\n",
        "hs = HalfspaceIntersection(halfspaces, feasible_point)\n",
        "\n",
        "class circle:\n",
        "    def __init__(self,x,y, radio):\n",
        "        self.radio = radio\n",
        "        self.x = x\n",
        "        self.y = y\n",
        "\n",
        "# Let\"s Find whether a point lies inside the circle\n",
        "    def exist_in_circle(self,x1,y1):\n",
        "        if (self.x-x1)**2+(self.y-y1)**2 < self.radio**2:\n",
        "            return True\n",
        "        else:\n",
        "            return False\n",
        "\n",
        "# initializing plt of matplotlib\n",
        "fig, ax = plt.subplots()\n",
        "ax.set(xlim=(-1, 2), ylim = (-1, 2))\n",
        "\n",
        "\n",
        "# initializing 3 circles as required in the question\n",
        "#radio, x,y\n",
        "c1 = circle(0.5, 1,1)\n",
        "c2 = circle(0.5,0.5,0.5)\n",
        "c3 = circle(0.1,0.1,0.4)\n",
        "\n",
        "def in_area(point):\n",
        "    if c1.exist_in_circle(*point) and c2.exist_in_circle(*point) and c3.exist_in_circle(*point) and hs:\n",
        "        return True\n",
        "    #if c1.exist_in_circle(*point) and c3.exist_in_circle(*point):\n",
        "        #return True\n",
        "    #if c1.exist_in_circle(*point) and hs:\n",
        "        #return True\n",
        "    return False\n",
        "\n",
        "\n",
        "x = np.linspace(0, 1, 100)\n",
        "y = np.linspace(0, 1, 100)\n",
        "xx, yy = np.meshgrid(x, y)\n",
        "print(x.shape, y.shape, xx.shape, yy.shape)\n",
        "\n",
        "\n",
        "c = []\n",
        "for x, y in zip(np.ravel(xx), np.ravel(yy)):\n",
        "    is_in_area = in_area((x, y))\n",
        "    c.append(is_in_area)\n",
        "    \n",
        "\n",
        "plt.scatter(np.ravel(xx), np.ravel(yy),c)\n",
        "plt.title(\"Diagrama de Voronoi Ponderado\")\n",
        "\n",
        "plt.show()"
      ],
      "metadata": {
        "colab": {
          "base_uri": "https://localhost:8080/",
          "height": 298
        },
        "id": "w8ytg_49AAHk",
        "outputId": "2bf9cbda-bc90-4ea5-a085-57bf7b255665"
      },
      "execution_count": 13,
      "outputs": [
        {
          "output_type": "stream",
          "name": "stdout",
          "text": [
            "(100,) (100,) (100, 100) (100, 100)\n"
          ]
        },
        {
          "output_type": "display_data",
          "data": {
            "text/plain": [
              "<Figure size 432x288 with 1 Axes>"
            ],
            "image/png": "[encoded data removed]"
          },
          "metadata": {
            "needs_background": "light"
          }
        }
      ]
    }
  ]
}